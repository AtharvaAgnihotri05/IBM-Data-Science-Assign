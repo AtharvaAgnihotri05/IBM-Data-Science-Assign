{
 "cells": [
  {
   "cell_type": "markdown",
   "id": "08f276f4-e02c-4a01-bdc7-a369a472992c",
   "metadata": {},
   "source": [
    "# :Data Science Tools and Ecosystem"
   ]
  },
  {
   "cell_type": "markdown",
   "id": "ab703252-b7ae-472d-a47e-b8db96752b40",
   "metadata": {},
   "source": [
    "In this notebook, Data Science Tools and Ecosystem are summarized."
   ]
  },
  {
   "cell_type": "markdown",
   "id": "d03d32d6-66dc-45af-ba25-341424c0d44c",
   "metadata": {},
   "source": [
    "___Objectives:___\n",
    "* Popular languages that Data Scientist use.\n",
    "* Libraries used by data scientist\n",
    "* Tools for Data Science\n",
    "* Arithmetic Expression"
   ]
  },
  {
   "cell_type": "markdown",
   "id": "d4de5e13-035b-4789-bba6-ce98861626d7",
   "metadata": {},
   "source": [
    "Some of the popular languages that Data Scientists use are:\n",
    "1. R\n",
    "2. SQL\n",
    "3. Python"
   ]
  },
  {
   "cell_type": "markdown",
   "id": "a89aacb6-5843-47ca-9cac-d022223ddba7",
   "metadata": {},
   "source": [
    "Some of the commonly used libraries used by Data Scientists include:\n",
    "1. TensorFlow\n",
    "2. Pandas\n",
    "3. Matplotlib"
   ]
  },
  {
   "cell_type": "markdown",
   "id": "491f666d-8630-4111-a648-4b1785d8cfbe",
   "metadata": {},
   "source": [
    "Data Science Tools\n",
    "|Rstudio|Apache Spark|TenserFlow|"
   ]
  },
  {
   "cell_type": "markdown",
   "id": "8c0c162f-7ef2-4f07-8089-c017607f6ee3",
   "metadata": {},
   "source": [
    "### :Below are a few examples of evaluating arithmetic expressions in Python"
   ]
  },
  {
   "cell_type": "code",
   "execution_count": 2,
   "id": "a351b2f5-a4c3-45c9-97dd-a2000e613bea",
   "metadata": {
    "tags": []
   },
   "outputs": [
    {
     "name": "stdout",
     "output_type": "stream",
     "text": [
      "17\n"
     ]
    }
   ],
   "source": [
    "#This a simple arithmetic expression to mutiply then add integers\n",
    "a = 3\n",
    "b = 4\n",
    "c = 5\n",
    "print((a*b)+c)"
   ]
  },
  {
   "cell_type": "code",
   "execution_count": 3,
   "id": "c95b4d49-f38d-4ea9-a3d7-736d56552577",
   "metadata": {
    "tags": []
   },
   "outputs": [
    {
     "name": "stdout",
     "output_type": "stream",
     "text": [
      "3.3333333333333335 hour\n"
     ]
    }
   ],
   "source": [
    "#This will convert 200 minutes to hours by diving by 60\n",
    "a = 200\n",
    "b = 60\n",
    "print(a/b,\"hour\")"
   ]
  },
  {
   "cell_type": "markdown",
   "id": "569c1b1a-6f10-47db-a4ae-61e7e568db0a",
   "metadata": {},
   "source": [
    "## :Author\n",
    "Atharva Agnihotri"
   ]
  }
 ],
 "metadata": {
  "kernelspec": {
   "display_name": "Python",
   "language": "python",
   "name": "conda-env-python-py"
  },
  "language_info": {
   "codemirror_mode": {
    "name": "ipython",
    "version": 3
   },
   "file_extension": ".py",
   "mimetype": "text/x-python",
   "name": "python",
   "nbconvert_exporter": "python",
   "pygments_lexer": "ipython3",
   "version": "3.7.12"
  }
 },
 "nbformat": 4,
 "nbformat_minor": 5
}
